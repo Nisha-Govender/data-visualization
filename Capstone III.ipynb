{
 "cells": [
  {
   "cell_type": "markdown",
   "id": "92f9b10b",
   "metadata": {},
   "source": [
    "# Understanding data"
   ]
  },
  {
   "cell_type": "code",
   "execution_count": null,
   "id": "f115e5f6",
   "metadata": {},
   "outputs": [],
   "source": [
    "# Importing libraries\n",
    "\n",
    "import pandas as pd\n",
    "import numpy as np\n",
    "from sklearn.preprocessing import StandardScaler\n",
    "from sklearn.cluster import KMeans, AffinityPropagation\n",
    "import matplotlib.pyplot as plt\n",
    "import seaborn as sns\n",
    "%matplotlib inline\n",
    "import plotly as py\n",
    "import plotly.graph_objs as go\n",
    "import datetime as dt\n",
    "import missingno as msno\n",
    "from wordcloud import WordCloud\n",
    "import plotly.graph_objects as go\n",
    "from plotly.offline import init_notebook_mode, iplot"
   ]
  },
  {
   "cell_type": "code",
   "execution_count": null,
   "id": "9086e830",
   "metadata": {},
   "outputs": [],
   "source": [
    "# read file\n",
    "df = pd.read_csv(\"netflix.csv\")"
   ]
  },
  {
   "cell_type": "code",
   "execution_count": null,
   "id": "a9c055fe",
   "metadata": {},
   "outputs": [],
   "source": [
    "# display first 5 rows\n",
    "df.head()"
   ]
  },
  {
   "cell_type": "code",
   "execution_count": null,
   "id": "edbea727",
   "metadata": {},
   "outputs": [],
   "source": [
    "# find more info using \"describe\" function\n",
    "df.describe()"
   ]
  },
  {
   "cell_type": "code",
   "execution_count": null,
   "id": "8a1a8d3b",
   "metadata": {},
   "outputs": [],
   "source": [
    "# find more info using \"info\" function\n",
    "df.info()"
   ]
  },
  {
   "cell_type": "code",
   "execution_count": null,
   "id": "e72f024f",
   "metadata": {},
   "outputs": [],
   "source": [
    "# find columns with empty fields\n",
    "df.isnull().sum()"
   ]
  },
  {
   "cell_type": "code",
   "execution_count": null,
   "id": "598eac7d",
   "metadata": {},
   "outputs": [],
   "source": [
    "# visualise missing data\n",
    "msno.matrix(df,figsize = (10,2))"
   ]
  },
  {
   "cell_type": "markdown",
   "id": "dc64a6b7",
   "metadata": {},
   "source": [
    "# Working with missing data"
   ]
  },
  {
   "cell_type": "code",
   "execution_count": null,
   "id": "e374cb15",
   "metadata": {},
   "outputs": [],
   "source": [
    "# Replace empty 'country' with most common country\n",
    "df['country'] = df['country'].fillna(df['country'].mode()[0])\n",
    "\n",
    "# replace empty 'cast' and 'director' with \"No Data\" - found no need to drop entire rows\n",
    "df['cast'].replace(np.nan, 'No Data',inplace  = True)\n",
    "df['director'].replace(np.nan, 'No Data',inplace  = True)\n",
    "\n",
    "# dropped everything else that was empty\n",
    "df.dropna(inplace=True)\n",
    "\n",
    "# dropped duplicate rows\n",
    "df.drop_duplicates(inplace= True)"
   ]
  },
  {
   "cell_type": "code",
   "execution_count": null,
   "id": "a9a90072",
   "metadata": {},
   "outputs": [],
   "source": [
    "# show if all missing data has been corrected\n",
    "df.isnull().sum()"
   ]
  },
  {
   "cell_type": "markdown",
   "id": "3c922ef2",
   "metadata": {},
   "source": [
    "# Visualizations"
   ]
  },
  {
   "cell_type": "code",
   "execution_count": null,
   "id": "81cfd0a8",
   "metadata": {},
   "outputs": [],
   "source": [
    "# bar graph showing the number of tv shows vs movies on Netflix\n",
    "sns.set()\n",
    "ax = sns.countplot(x=\"type\", data=df, palette=\"Set2\")"
   ]
  },
  {
   "cell_type": "code",
   "execution_count": null,
   "id": "17cba220",
   "metadata": {},
   "outputs": [],
   "source": [
    "# bar graph showing the number movies/shows with specic age restrictions (rating)\n",
    "plt.figure(figsize=(12,10))\n",
    "sns.set(style=\"darkgrid\")\n",
    "ax = sns.countplot(x=\"rating\", data=df, palette=\"Set2\", order=df['rating'].value_counts().index[0:15])"
   ]
  },
  {
   "cell_type": "code",
   "execution_count": null,
   "id": "0da931d9",
   "metadata": {},
   "outputs": [],
   "source": [
    "# horizontal bar graph showing the amount of movies/shows released in specific years\n",
    "plt.figure(figsize=(12,10))\n",
    "sns.set(style=\"darkgrid\")\n",
    "ax = sns.countplot(y=\"release_year\", data=df, palette=\"Set2\", order=df['release_year'].value_counts().index[0:15])"
   ]
  },
  {
   "cell_type": "code",
   "execution_count": null,
   "id": "cb348a20",
   "metadata": {},
   "outputs": [],
   "source": [
    "# Concatenate all genres into one string\n",
    "all_genres = \" \".join(df[\"listed_in\"].apply(lambda x: \"\".join(x)))\n",
    "\n",
    "# Create the wordcloud\n",
    "wordcloud = WordCloud().generate(all_genres)\n",
    "\n",
    "# Display the wordcloud\n",
    "import matplotlib.pyplot as plt\n",
    "plt.imshow(wordcloud, interpolation='bilinear')\n",
    "plt.axis(\"off\")\n",
    "plt.show()"
   ]
  }
 ],
 "metadata": {
  "kernelspec": {
   "display_name": "Python 3 (ipykernel)",
   "language": "python",
   "name": "python3"
  },
  "language_info": {
   "codemirror_mode": {
    "name": "ipython",
    "version": 3
   },
   "file_extension": ".py",
   "mimetype": "text/x-python",
   "name": "python",
   "nbconvert_exporter": "python",
   "pygments_lexer": "ipython3",
   "version": "3.9.13"
  }
 },
 "nbformat": 4,
 "nbformat_minor": 5
}
